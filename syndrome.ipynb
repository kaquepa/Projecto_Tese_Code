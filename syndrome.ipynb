{
 "cells": [
  {
   "cell_type": "code",
   "execution_count": 2,
   "metadata": {},
   "outputs": [],
   "source": [
    "from sage.all import *\n",
    "import numpy as np\n",
    "# inverse of polynomial\n",
    "m = 3\n",
    "t = 2 \n",
    "F = GF(2^m, 'z')\n",
    "R = PolynomialRing(F, 'x')\n",
    "x = R.gen()\n",
    "z = F.gen()\n",
    "R.<x> = PolynomialRing(F)\n",
    "F.<z> = GF(2^m, name='z')\n",
    "\n",
    "# Definindo o polinômio g(x) = z^2*x^2 + (z^2 + 1)*x + z^2 + 1\n",
    "g_x = z^2*x^2 + (z^2 + 1)*x + z^2 + 1\n",
    "\n",
    "L = sorted([a for a in F])\n",
    "y = [1,1,1,1,0,1,0,0]\n"
   ]
  },
  {
   "cell_type": "code",
   "execution_count": 3,
   "metadata": {},
   "outputs": [],
   "source": [
    "def calculo_inverso (value):\n",
    "    inverso = (value).inverse_mod(g_x)\n",
    "    validade = (inverso * value ) % g_x \n",
    "    if validade == 1 :\n",
    "        return inverso,True"
   ]
  },
  {
   "cell_type": "code",
   "execution_count": 4,
   "metadata": {},
   "outputs": [],
   "source": [
    "def calcular_ro(value):\n",
    "    return ((value + x) % g_x)^(2^(m*t - 1)) % g_x\n"
   ]
  },
  {
   "cell_type": "code",
   "execution_count": 5,
   "metadata": {},
   "outputs": [],
   "source": [
    "def Encontrar_ax_bx():\n",
    "    # Escolha de b(x) dentro do limite de grau\n",
    "    bx = R(1) \n",
    "    ro_Sx_inverse = calcular_ro(Sx_inverse)\n",
    "    \n",
    "    # Calcula a(x)\n",
    "    ax = (bx * ro_Sx_inverse) % g_x\n",
    "    \n",
    "    # Verifica se a(x) satisfaz as condições de grau\n",
    "    if ax.degree() <= floor(t):\n",
    "        return ax, bx\n",
    "        print(f\"a(x) satisfaz a condição de grau: {ax}\")\n",
    "    else:\n",
    "        print(\"a(x) não satisfaz a condição de grau.\")\n",
    "\n",
    "    \n"
   ]
  },
  {
   "cell_type": "code",
   "execution_count": 6,
   "metadata": {},
   "outputs": [],
   "source": [
    "\n",
    "def sigma(ax,bx): \n",
    "   sigma_x = (ax^(2)) + x*(bx^2) \n",
    "   return sigma_x"
   ]
  },
  {
   "cell_type": "code",
   "execution_count": 7,
   "metadata": {},
   "outputs": [],
   "source": [
    "def raiz_sigma():\n",
    "    # sendo L, queremos verificar quais l_i \\in L resultam em zero\n",
    "    # quando aplicados em sigma(X) ou sigma(l_i) = 0\n",
    "    \n",
    "    ii = 0 \n",
    "    zeros = list()\n",
    "    for i in L:\n",
    "        polinomio = (z^2 + z)*x^2 + x + z^2 + z\n",
    "        resultado_sigma = polinomio( x =  i )\n",
    "        if  resultado_sigma ==  F(0):\n",
    "            #print(i)\n",
    "            zeros.append(ii)\n",
    "        ii +=1\n",
    "    # outra alternativa\n",
    "    raizes = polinomio.roots(multiplicities = False)\n",
    "    error_vetor = [0]*len(L)\n",
    "    for i in range(len(L)):\n",
    "        if L[i] in set(raizes):\n",
    "            error_vetor[ i - 1] = 1\n",
    "            #print( \"Posição: \",   i)\n",
    "    return error_vetor"
   ]
  },
  {
   "cell_type": "code",
   "execution_count": 8,
   "metadata": {},
   "outputs": [],
   "source": [
    "def encontrar_codeword(y,e):\n",
    "     return np.bitwise_xor(y,e) "
   ]
  },
  {
   "cell_type": "code",
   "execution_count": 9,
   "metadata": {},
   "outputs": [],
   "source": [
    "def sindromes(y): # verificaar este funcao\n",
    "    Lista_Sindrome = list()\n",
    "    L2 = list()\n",
    "    for i in range(len(y)):\n",
    "        if y[i] != 0:  \n",
    "            aux = (x - L[i])  \n",
    "            Lista_Sindrome.append(aux)\n",
    "    return Lista_Sindrome"
   ]
  },
  {
   "cell_type": "code",
   "execution_count": 10,
   "metadata": {},
   "outputs": [
    {
     "name": "stdout",
     "output_type": "stream",
     "text": [
      "Sx:  [x, x + 1, x + z, x + z^2 + z]\n"
     ]
    }
   ],
   "source": [
    "Lista_Sx = [ x ,  (x - 1)  , (x-z), (x- (z^2 + z) ) ]\n",
    "Lista = list()\n",
    "\n",
    "for items in Lista_Sx:\n",
    "    aux,_ =  calculo_inverso (items)\n",
    "    Lista.append(aux)\n",
    "\n",
    "Sx = sum(Lista) \n",
    "print(\"Sx: \", Lista_Sx )\n",
    "\n"
   ]
  },
  {
   "cell_type": "code",
   "execution_count": 11,
   "metadata": {},
   "outputs": [
    {
     "name": "stdout",
     "output_type": "stream",
     "text": [
      "(z^2 + z)*x^2 + x + z^2 + z\n",
      "[x, x + 1, x + z, x + z + 1, x + z^2 + 1]\n"
     ]
    }
   ],
   "source": [
    "Sx_inverse,_ = calculo_inverso(Sx)\n",
    "ax, bx = Encontrar_ax_bx()\n",
    "print(sigma(ax,bx))\n",
    "\n",
    "\n",
    "error = raiz_sigma()\n",
    "codeword = encontrar_codeword(y,error)\n",
    "print( sindromes(y))\n",
    "\n",
    "   "
   ]
  }
 ],
 "metadata": {
  "kernelspec": {
   "display_name": "SageMath 10.1",
   "language": "sage",
   "name": "SageMath-10.1"
  },
  "language_info": {
   "codemirror_mode": {
    "name": "ipython",
    "version": 3
   },
   "file_extension": ".py",
   "mimetype": "text/x-python",
   "name": "python",
   "nbconvert_exporter": "python",
   "pygments_lexer": "ipython3",
   "version": "3.11.1"
  }
 },
 "nbformat": 4,
 "nbformat_minor": 2
}
