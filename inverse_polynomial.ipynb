{
 "cells": [
  {
   "cell_type": "code",
   "execution_count": 2,
   "metadata": {},
   "outputs": [
    {
     "ename": "TypeError",
     "evalue": "unsupported operand type(s) for -: 'Symbol' and 'sage.rings.finite_rings.element_givaro.FiniteField_givaroElement'",
     "output_type": "error",
     "traceback": [
      "\u001b[0;31m---------------------------------------------------------------------------\u001b[0m",
      "\u001b[0;31mTypeError\u001b[0m                                 Traceback (most recent call last)",
      "Cell \u001b[0;32mIn [2], line 11\u001b[0m\n\u001b[1;32m      9\u001b[0m g_x \u001b[38;5;241m=\u001b[39m z\u001b[38;5;241m*\u001b[39m\u001b[38;5;241m*\u001b[39mInteger(\u001b[38;5;241m2\u001b[39m) \u001b[38;5;241m*\u001b[39m x\u001b[38;5;241m*\u001b[39m\u001b[38;5;241m*\u001b[39mInteger(\u001b[38;5;241m2\u001b[39m) \u001b[38;5;241m+\u001b[39m (z\u001b[38;5;241m*\u001b[39m\u001b[38;5;241m*\u001b[39mInteger(\u001b[38;5;241m2\u001b[39m) \u001b[38;5;241m+\u001b[39m Integer(\u001b[38;5;241m1\u001b[39m)) \u001b[38;5;241m*\u001b[39m x \u001b[38;5;241m+\u001b[39m z\u001b[38;5;241m*\u001b[39m\u001b[38;5;241m*\u001b[39mInteger(\u001b[38;5;241m2\u001b[39m) \u001b[38;5;241m+\u001b[39m Integer(\u001b[38;5;241m1\u001b[39m)\n\u001b[1;32m     10\u001b[0m L \u001b[38;5;241m=\u001b[39m [a \u001b[38;5;28;01mfor\u001b[39;00m a \u001b[38;5;129;01min\u001b[39;00m F]\n\u001b[0;32m---> 11\u001b[0m SX_terms \u001b[38;5;241m=\u001b[39m \u001b[43m[\u001b[49m\u001b[43mInteger\u001b[49m\u001b[43m(\u001b[49m\u001b[38;5;241;43m1\u001b[39;49m\u001b[43m)\u001b[49m\u001b[38;5;241;43m/\u001b[39;49m\u001b[43m(\u001b[49m\u001b[43mx\u001b[49m\u001b[43m \u001b[49m\u001b[38;5;241;43m-\u001b[39;49m\u001b[43m \u001b[49m\u001b[43ml\u001b[49m\u001b[43m)\u001b[49m\u001b[43m \u001b[49m\u001b[38;5;28;43;01mfor\u001b[39;49;00m\u001b[43m \u001b[49m\u001b[43ml\u001b[49m\u001b[43m \u001b[49m\u001b[38;5;129;43;01min\u001b[39;49;00m\u001b[43m \u001b[49m\u001b[43mL\u001b[49m\u001b[43m]\u001b[49m\n\u001b[1;32m     12\u001b[0m y \u001b[38;5;241m=\u001b[39m [Integer(\u001b[38;5;241m1\u001b[39m),Integer(\u001b[38;5;241m1\u001b[39m),Integer(\u001b[38;5;241m1\u001b[39m),Integer(\u001b[38;5;241m0\u001b[39m),Integer(\u001b[38;5;241m0\u001b[39m),Integer(\u001b[38;5;241m1\u001b[39m),Integer(\u001b[38;5;241m0\u001b[39m),Integer(\u001b[38;5;241m0\u001b[39m)]\n\u001b[1;32m     14\u001b[0m S \u001b[38;5;241m=\u001b[39m (Integer(\u001b[38;5;241m1\u001b[39m)\u001b[38;5;241m/\u001b[39mx \u001b[38;5;241m+\u001b[39m Integer(\u001b[38;5;241m1\u001b[39m)\u001b[38;5;241m/\u001b[39m(x \u001b[38;5;241m-\u001b[39m Integer(\u001b[38;5;241m1\u001b[39m)) \u001b[38;5;241m+\u001b[39m Integer(\u001b[38;5;241m1\u001b[39m)\u001b[38;5;241m/\u001b[39m(x \u001b[38;5;241m-\u001b[39m z) \u001b[38;5;241m+\u001b[39m Integer(\u001b[38;5;241m1\u001b[39m)\u001b[38;5;241m/\u001b[39m(x \u001b[38;5;241m-\u001b[39m (z\u001b[38;5;241m*\u001b[39m\u001b[38;5;241m*\u001b[39mInteger(\u001b[38;5;241m2\u001b[39m) \u001b[38;5;241m+\u001b[39m z))) \u001b[38;5;241m%\u001b[39m (z\u001b[38;5;241m*\u001b[39m\u001b[38;5;241m*\u001b[39mInteger(\u001b[38;5;241m2\u001b[39m)\u001b[38;5;241m*\u001b[39mx\u001b[38;5;241m*\u001b[39m\u001b[38;5;241m*\u001b[39mInteger(\u001b[38;5;241m2\u001b[39m) \u001b[38;5;241m+\u001b[39m (z\u001b[38;5;241m*\u001b[39m\u001b[38;5;241m*\u001b[39mInteger(\u001b[38;5;241m2\u001b[39m) \u001b[38;5;241m+\u001b[39m Integer(\u001b[38;5;241m1\u001b[39m))\u001b[38;5;241m*\u001b[39mx \u001b[38;5;241m+\u001b[39m z\u001b[38;5;241m*\u001b[39m\u001b[38;5;241m*\u001b[39mInteger(\u001b[38;5;241m2\u001b[39m) \u001b[38;5;241m+\u001b[39m Integer(\u001b[38;5;241m1\u001b[39m))\n",
      "Cell \u001b[0;32mIn [2], line 11\u001b[0m, in \u001b[0;36m<listcomp>\u001b[0;34m(.0)\u001b[0m\n\u001b[1;32m      9\u001b[0m g_x \u001b[38;5;241m=\u001b[39m z\u001b[38;5;241m*\u001b[39m\u001b[38;5;241m*\u001b[39mInteger(\u001b[38;5;241m2\u001b[39m) \u001b[38;5;241m*\u001b[39m x\u001b[38;5;241m*\u001b[39m\u001b[38;5;241m*\u001b[39mInteger(\u001b[38;5;241m2\u001b[39m) \u001b[38;5;241m+\u001b[39m (z\u001b[38;5;241m*\u001b[39m\u001b[38;5;241m*\u001b[39mInteger(\u001b[38;5;241m2\u001b[39m) \u001b[38;5;241m+\u001b[39m Integer(\u001b[38;5;241m1\u001b[39m)) \u001b[38;5;241m*\u001b[39m x \u001b[38;5;241m+\u001b[39m z\u001b[38;5;241m*\u001b[39m\u001b[38;5;241m*\u001b[39mInteger(\u001b[38;5;241m2\u001b[39m) \u001b[38;5;241m+\u001b[39m Integer(\u001b[38;5;241m1\u001b[39m)\n\u001b[1;32m     10\u001b[0m L \u001b[38;5;241m=\u001b[39m [a \u001b[38;5;28;01mfor\u001b[39;00m a \u001b[38;5;129;01min\u001b[39;00m F]\n\u001b[0;32m---> 11\u001b[0m SX_terms \u001b[38;5;241m=\u001b[39m [Integer(\u001b[38;5;241m1\u001b[39m)\u001b[38;5;241m/\u001b[39m(\u001b[43mx\u001b[49m\u001b[43m \u001b[49m\u001b[38;5;241;43m-\u001b[39;49m\u001b[43m \u001b[49m\u001b[43ml\u001b[49m) \u001b[38;5;28;01mfor\u001b[39;00m l \u001b[38;5;129;01min\u001b[39;00m L]\n\u001b[1;32m     12\u001b[0m y \u001b[38;5;241m=\u001b[39m [Integer(\u001b[38;5;241m1\u001b[39m),Integer(\u001b[38;5;241m1\u001b[39m),Integer(\u001b[38;5;241m1\u001b[39m),Integer(\u001b[38;5;241m0\u001b[39m),Integer(\u001b[38;5;241m0\u001b[39m),Integer(\u001b[38;5;241m1\u001b[39m),Integer(\u001b[38;5;241m0\u001b[39m),Integer(\u001b[38;5;241m0\u001b[39m)]\n\u001b[1;32m     14\u001b[0m S \u001b[38;5;241m=\u001b[39m (Integer(\u001b[38;5;241m1\u001b[39m)\u001b[38;5;241m/\u001b[39mx \u001b[38;5;241m+\u001b[39m Integer(\u001b[38;5;241m1\u001b[39m)\u001b[38;5;241m/\u001b[39m(x \u001b[38;5;241m-\u001b[39m Integer(\u001b[38;5;241m1\u001b[39m)) \u001b[38;5;241m+\u001b[39m Integer(\u001b[38;5;241m1\u001b[39m)\u001b[38;5;241m/\u001b[39m(x \u001b[38;5;241m-\u001b[39m z) \u001b[38;5;241m+\u001b[39m Integer(\u001b[38;5;241m1\u001b[39m)\u001b[38;5;241m/\u001b[39m(x \u001b[38;5;241m-\u001b[39m (z\u001b[38;5;241m*\u001b[39m\u001b[38;5;241m*\u001b[39mInteger(\u001b[38;5;241m2\u001b[39m) \u001b[38;5;241m+\u001b[39m z))) \u001b[38;5;241m%\u001b[39m (z\u001b[38;5;241m*\u001b[39m\u001b[38;5;241m*\u001b[39mInteger(\u001b[38;5;241m2\u001b[39m)\u001b[38;5;241m*\u001b[39mx\u001b[38;5;241m*\u001b[39m\u001b[38;5;241m*\u001b[39mInteger(\u001b[38;5;241m2\u001b[39m) \u001b[38;5;241m+\u001b[39m (z\u001b[38;5;241m*\u001b[39m\u001b[38;5;241m*\u001b[39mInteger(\u001b[38;5;241m2\u001b[39m) \u001b[38;5;241m+\u001b[39m Integer(\u001b[38;5;241m1\u001b[39m))\u001b[38;5;241m*\u001b[39mx \u001b[38;5;241m+\u001b[39m z\u001b[38;5;241m*\u001b[39m\u001b[38;5;241m*\u001b[39mInteger(\u001b[38;5;241m2\u001b[39m) \u001b[38;5;241m+\u001b[39m Integer(\u001b[38;5;241m1\u001b[39m))\n",
      "\u001b[0;31mTypeError\u001b[0m: unsupported operand type(s) for -: 'Symbol' and 'sage.rings.finite_rings.element_givaro.FiniteField_givaroElement'"
     ]
    }
   ],
   "source": [
    "from sage.all import *\n",
    "from sympy import symbols, simplify\n",
    "F = GF(2)\n",
    "R = F['x']; (x,) = R._first_ngens(1)\n",
    "K = F.extension(x**4 + x + 1, 'a')\n",
    "F.<z> = GF(2^3, name='z')\n",
    "R.<x> = PolynomialRing(F)\n",
    "z, x = symbols('z x')\n",
    "g_x = z^2 * x^2 + (z^2 + 1) * x + z^2 + 1\n",
    "L = [a for a in F]\n",
    "SX_terms = [1/(x - l) for l in L]\n",
    "y = [1,1,1,0,0,1,0,0]\n",
    "\n",
    "S = (1/x + 1/(x - 1) + 1/(x - z) + 1/(x - (z**2 + z))) % (z**2*x**2 + (z**2 + 1)*x + z**2 + 1)\n",
    "S_simplify = simplify(S)\n",
    "\n",
    "Syndrome = list()\n",
    "for i in range(len(y)):\n",
    "    polinomio = SX_terms[i]\n",
    "    inverse_polynomial= g_x.inverse_mod(g_x ) \n",
    "    aux = y[i]*inverse_polynomial\n",
    "    if aux != 0:\n",
    "        Syndrome.append(aux)\n",
    "Sc_x = (x) +  (x + z) +  (x + z^2) + (x + z^2 + z + 1)\n",
    "S_x_inv = ( (1 / x )   +  (1/ (x-1)) +  (1/ (x-z))    +   1 / (x-(z^2+z))  ).inverse_mod(g_x )\n",
    "print(S_x_inv)\n"
   ]
  }
 ],
 "metadata": {
  "kernelspec": {
   "display_name": "SageMath 10.1",
   "language": "sage",
   "name": "SageMath-10.1"
  },
  "language_info": {
   "codemirror_mode": {
    "name": "ipython",
    "version": 3
   },
   "file_extension": ".py",
   "mimetype": "text/x-python",
   "name": "python",
   "nbconvert_exporter": "python",
   "pygments_lexer": "ipython3",
   "version": "3.11.1"
  }
 },
 "nbformat": 4,
 "nbformat_minor": 2
}
